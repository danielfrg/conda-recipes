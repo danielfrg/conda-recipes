{
 "cells": [
  {
   "cell_type": "code",
   "execution_count": 1,
   "metadata": {},
   "outputs": [
    {
     "name": "stdout",
     "output_type": "stream",
     "text": [
      "Identity added: adam.pem (rsa w/o comment)\r\n"
     ]
    }
   ],
   "source": [
    "!ssh-add adam.pem"
   ]
  },
  {
   "cell_type": "code",
   "execution_count": null,
   "metadata": {},
   "outputs": [],
   "source": [
    "# This will work with new versions of saspy not the current 2.1.6\n",
    "import os\n",
    "import sys\n",
    "\n",
    "this_dir = os.path.dirname(os.path.realpath(__name__))\n",
    "sys.path.insert(0, this_dir)"
   ]
  },
  {
   "cell_type": "code",
   "execution_count": 2,
   "metadata": {},
   "outputs": [],
   "source": [
    "import saspy"
   ]
  },
  {
   "cell_type": "code",
   "execution_count": 3,
   "metadata": {},
   "outputs": [
    {
     "name": "stdout",
     "output_type": "stream",
     "text": [
      "SAS Connection established. Subprocess id is 69\n",
      "\n"
     ]
    }
   ],
   "source": [
    "# sas = saspy.SASsession(cfgname='default')\n",
    "sas = saspy.SASsession(cfgname='ssh')"
   ]
  },
  {
   "cell_type": "code",
   "execution_count": 4,
   "metadata": {},
   "outputs": [],
   "source": [
    "c = sas.submit(\"\"\"proc javainfo; run;\"\"\")"
   ]
  },
  {
   "cell_type": "code",
   "execution_count": 5,
   "metadata": {},
   "outputs": [
    {
     "data": {
      "text/plain": [
       "\"\\n27   ods listing close;ods html5 (id=saspy_internal) file=stdout options(bitmap_mode='inline') device=svg; ods graphics on /\\n27 ! outputfmt=png;\\nNOTE: Writing HTML5(SASPY_INTERNAL) Body file: STDOUT\\n28   \\n29   proc javainfo; run;\\nPFS_TEMPLATE = /opt/sas9.4/install/SASHome/SASFoundation/9.4/misc/tkjava/qrpfstpt.xml\\njava.class.path = /opt/sas9.4/install/SASHome/SASVersionedJarRepository/eclipse/plugins/sas.launcher.jar\\njava.class.version = 51.0\\njava.runtime.name = Java(TM) SE Runtime Environment\\njava.runtime.version = 1.7.0_76-b13\\njava.security.auth.login.config = /opt/sas9.4/install/SASHome/SASFoundation/9.4/misc/tkjava/sas.login.config\\njava.security.policy = /opt/sas9.4/install/SASHome/SASFoundation/9.4/misc/tkjava/sas.policy\\njava.specification.version = 1.7\\njava.system.class.loader = com.sas.app.AppClassLoader\\njava.vendor = Oracle Corporation\\njava.version = 1.7.0_76\\njava.vm.name = Java HotSpot(TM) 64-Bit Server VM\\njava.vm.specification.version = 1.7\\njava.vm.version = 24.76-b04\\nsas.app.class.path = /opt/sas9.4/install/SASHome/SASVersionedJarRepository/eclipse/plugins/tkjava.jar\\nsas.ext.config = /opt/sas9.4/install/SASHome/SASFoundation/9.4/misc/tkjava/sas.java.ext.config\\ntkj.app.launch.config = /opt/sas9.4/install/SASHome/SASVersionedJarRepository/picklist\\nuser.country = US\\nuser.language = en\\n\\nNOTE: PROCEDURE JAVAINFO used (Total process time):\\n      real time           1.02 seconds\\n      user cpu time       0.01 seconds\\n      system cpu time     0.01 seconds\\n      memory              20.59k\\n      OS Memory           12184.00k\\n      Timestamp           09/08/2017 08:00:21 PM\\n      Step Count                        2  Switch Count  0\\n      Page Faults                       0\\n      Page Reclaims                     71\\n      Page Swaps                        0\\n      Voluntary Context Switches        1426\\n      Involuntary Context Switches      0\\n      Block Input Operations            0\\n      Block Output Operations           0\\n      \\n30   \\n31   ods html5 (id=saspy_internal) close;ods listing;\\n\\n32   \""
      ]
     },
     "execution_count": 5,
     "metadata": {},
     "output_type": "execute_result"
    }
   ],
   "source": [
    "c['LOG']"
   ]
  },
  {
   "cell_type": "code",
   "execution_count": null,
   "metadata": {},
   "outputs": [],
   "source": []
  }
 ],
 "metadata": {
  "kernelspec": {
   "display_name": "Python 3",
   "language": "python",
   "name": "python3"
  },
  "language_info": {
   "codemirror_mode": {
    "name": "ipython",
    "version": 3
   },
   "file_extension": ".py",
   "mimetype": "text/x-python",
   "name": "python",
   "nbconvert_exporter": "python",
   "pygments_lexer": "ipython3",
   "version": "3.6.0"
  }
 },
 "nbformat": 4,
 "nbformat_minor": 2
}
