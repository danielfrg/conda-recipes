{
 "cells": [
  {
   "cell_type": "code",
   "execution_count": 1,
   "metadata": {},
   "outputs": [
    {
     "name": "stdout",
     "output_type": "stream",
     "text": [
      "Identity added: adam.pem (rsa w/o comment)\n"
     ]
    }
   ],
   "source": [
    "!ssh-add adam.pem"
   ]
  },
  {
   "cell_type": "code",
   "execution_count": 2,
   "metadata": {},
   "outputs": [
    {
     "name": "stdout",
     "output_type": "stream",
     "text": [
      "SAS Connection established. Subprocess id is 84\n",
      "\n"
     ]
    },
    {
     "data": {
      "text/html": [
       "<!DOCTYPE html PUBLIC \"-//W3C//DTD HTML 4.01//EN\"\n",
       "   \"http://www.w3.org/TR/html4/strict.dtd\">\n",
       "\n",
       "<html>\n",
       "<head>\n",
       "  <title></title>\n",
       "  <meta http-equiv=\"content-type\" content=\"text/html; charset=None\">\n",
       "  <style type=\"text/css\">\n",
       "td.linenos { background-color: #f0f0f0; padding-right: 10px; }\n",
       "span.lineno { background-color: #f0f0f0; padding: 0 5px 0 5px; }\n",
       "pre { line-height: 125%; }\n",
       "body .hll { background-color: #ffffcc }\n",
       "body  { background: #ffffff; }\n",
       "body .c { color: #0000FF } /* Comment */\n",
       "body .k { color: #ff0000; font-weight: bold } /* Keyword */\n",
       "body .n { color: #008000 } /* Name */\n",
       "body .ch { color: #0000FF } /* Comment.Hashbang */\n",
       "body .cm { color: #0000FF } /* Comment.Multiline */\n",
       "body .cp { color: #0000FF } /* Comment.Preproc */\n",
       "body .cpf { color: #0000FF } /* Comment.PreprocFile */\n",
       "body .c1 { color: #0000FF } /* Comment.Single */\n",
       "body .cs { color: #0000FF } /* Comment.Special */\n",
       "body .kc { color: #ff0000; font-weight: bold } /* Keyword.Constant */\n",
       "body .kd { color: #ff0000; font-weight: bold } /* Keyword.Declaration */\n",
       "body .kn { color: #ff0000; font-weight: bold } /* Keyword.Namespace */\n",
       "body .kp { color: #ff0000; font-weight: bold } /* Keyword.Pseudo */\n",
       "body .kr { color: #ff0000; font-weight: bold } /* Keyword.Reserved */\n",
       "body .kt { color: #ff0000; font-weight: bold } /* Keyword.Type */\n",
       "body .s { color: #111111 } /* Literal.String */\n",
       "body .na { color: #008000 } /* Name.Attribute */\n",
       "body .nb { color: #008000 } /* Name.Builtin */\n",
       "body .nc { color: #008000 } /* Name.Class */\n",
       "body .no { color: #008000 } /* Name.Constant */\n",
       "body .nd { color: #008000 } /* Name.Decorator */\n",
       "body .ni { color: #008000 } /* Name.Entity */\n",
       "body .ne { color: #008000 } /* Name.Exception */\n",
       "body .nf { color: #008000 } /* Name.Function */\n",
       "body .nl { color: #008000 } /* Name.Label */\n",
       "body .nn { color: #008000 } /* Name.Namespace */\n",
       "body .nx { color: #008000 } /* Name.Other */\n",
       "body .py { color: #008000 } /* Name.Property */\n",
       "body .nt { color: #008000 } /* Name.Tag */\n",
       "body .nv { color: #008000 } /* Name.Variable */\n",
       "body .sa { color: #111111 } /* Literal.String.Affix */\n",
       "body .sb { color: #111111 } /* Literal.String.Backtick */\n",
       "body .sc { color: #111111 } /* Literal.String.Char */\n",
       "body .dl { color: #111111 } /* Literal.String.Delimiter */\n",
       "body .sd { color: #111111 } /* Literal.String.Doc */\n",
       "body .s2 { color: #111111 } /* Literal.String.Double */\n",
       "body .se { color: #111111 } /* Literal.String.Escape */\n",
       "body .sh { color: #111111 } /* Literal.String.Heredoc */\n",
       "body .si { color: #111111 } /* Literal.String.Interpol */\n",
       "body .sx { color: #111111 } /* Literal.String.Other */\n",
       "body .sr { color: #111111 } /* Literal.String.Regex */\n",
       "body .s1 { color: #111111 } /* Literal.String.Single */\n",
       "body .ss { color: #111111 } /* Literal.String.Symbol */\n",
       "body .bp { color: #008000 } /* Name.Builtin.Pseudo */\n",
       "body .fm { color: #008000 } /* Name.Function.Magic */\n",
       "body .vc { color: #008000 } /* Name.Variable.Class */\n",
       "body .vg { color: #008000 } /* Name.Variable.Global */\n",
       "body .vi { color: #008000 } /* Name.Variable.Instance */\n",
       "body .vm { color: #008000 } /* Name.Variable.Magic */\n",
       "\n",
       "  </style>\n",
       "</head>\n",
       "<body>\n",
       "<h2></h2>\n",
       "\n",
       "<div class=\"highlight\"><pre><span></span><span class=\"s\">34   ods listing close;ods html5 (id=saspy_internal) file=stdout options(bitmap_mode=&#39;inline&#39;) device=svg; ods graphics on /</span><br><span class=\"s\">34 ! outputfmt=png;</span><br><span class=\"cm\">NOTE: Writing HTML5(SASPY_INTERNAL) Body file: STDOUT</span><br><span class=\"s\">35   </span><br><span class=\"s\">36   proc javainfo;</span><br><span class=\"s\">37   run;</span><br><span class=\"err\">PFS_TEMPLATE</span> <span class=\"err\">=</span> <span class=\"err\">/opt/sas9.4/install/SASHome/SASFoundation/9.4/misc/tkjava/qrpfstpt.xml</span><br><span class=\"err\">java.class.path</span> <span class=\"err\">=</span> <span class=\"err\">/opt/sas9.4/install/SASHome/SASVersionedJarRepository/eclipse/plugins/sas.launcher.jar</span><br><span class=\"err\">java.class.version</span> <span class=\"err\">=</span> <span class=\"err\">51.0</span><br><span class=\"err\">java.runtime.name</span> <span class=\"err\">=</span> <span class=\"err\">Java(TM)</span> <span class=\"err\">SE</span> <span class=\"err\">Runtime</span> <span class=\"err\">Environment</span><br><span class=\"err\">java.runtime.version</span> <span class=\"err\">=</span> <span class=\"err\">1.7.0_76-b13</span><br><span class=\"err\">java.security.auth.login.config</span> <span class=\"err\">=</span> <span class=\"err\">/opt/sas9.4/install/SASHome/SASFoundation/9.4/misc/tkjava/sas.login.config</span><br><span class=\"err\">java.security.policy</span> <span class=\"err\">=</span> <span class=\"err\">/opt/sas9.4/install/SASHome/SASFoundation/9.4/misc/tkjava/sas.policy</span><br><span class=\"err\">java.specification.version</span> <span class=\"err\">=</span> <span class=\"err\">1.7</span><br><span class=\"err\">java.system.class.loader</span> <span class=\"err\">=</span> <span class=\"err\">com.sas.app.AppClassLoader</span><br><span class=\"err\">java.vendor</span> <span class=\"err\">=</span> <span class=\"err\">Oracle</span> <span class=\"err\">Corporation</span><br><span class=\"err\">java.version</span> <span class=\"err\">=</span> <span class=\"err\">1.7.0_76</span><br><span class=\"err\">java.vm.name</span> <span class=\"err\">=</span> <span class=\"err\">Java</span> <span class=\"err\">HotSpot(TM)</span> <span class=\"err\">64-Bit</span> <span class=\"err\">Server</span> <span class=\"err\">VM</span><br><span class=\"err\">java.vm.specification.version</span> <span class=\"err\">=</span> <span class=\"err\">1.7</span><br><span class=\"err\">java.vm.version</span> <span class=\"err\">=</span> <span class=\"err\">24.76-b04</span><br><span class=\"err\">sas.app.class.path</span> <span class=\"err\">=</span> <span class=\"err\">/opt/sas9.4/install/SASHome/SASVersionedJarRepository/eclipse/plugins/tkjava.jar</span><br><span class=\"err\">sas.ext.config</span> <span class=\"err\">=</span> <span class=\"err\">/opt/sas9.4/install/SASHome/SASFoundation/9.4/misc/tkjava/sas.java.ext.config</span><br><span class=\"err\">tkj.app.launch.config</span> <span class=\"err\">=</span> <span class=\"err\">/opt/sas9.4/install/SASHome/SASVersionedJarRepository/picklist</span><br><span class=\"err\">user.country</span> <span class=\"err\">=</span> <span class=\"err\">US</span><br><span class=\"err\">user.language</span> <span class=\"err\">=</span> <span class=\"err\">en</span><br><br><span class=\"cm\">NOTE: PROCEDURE JAVAINFO used (Total process time):</span><br><span class=\"cm\">      real time           1.02 seconds</span><br><span class=\"cm\">      user cpu time       0.01 seconds</span><br><span class=\"cm\">      system cpu time     0.00 seconds</span><br><span class=\"cm\">      memory              20.50k</span><br><span class=\"cm\">      OS Memory           12952.00k</span><br><span class=\"cm\">      Timestamp           09/08/2017 08:01:12 PM</span><br><span class=\"cm\">      Step Count                        3  Switch Count  0</span><br><span class=\"cm\">      Page Faults                       0</span><br><span class=\"cm\">      Page Reclaims                     66</span><br><span class=\"cm\">      Page Swaps                        0</span><br><span class=\"cm\">      Voluntary Context Switches        1427</span><br><span class=\"cm\">      Involuntary Context Switches      0</span><br><span class=\"cm\">      Block Input Operations            0</span><br><span class=\"cm\">      Block Output Operations           0</span><br><span class=\"cm\">      </span><br><span class=\"s\">38   </span><br><span class=\"s\">39   ods html5 (id=saspy_internal) close;ods listing;</span><br><br><span class=\"s\">40   </span><br></pre></div>\n",
       "</body>\n",
       "</html>\n"
      ],
      "text/plain": [
       "<IPython.core.display.HTML object>"
      ]
     },
     "execution_count": 2,
     "metadata": {},
     "output_type": "execute_result"
    }
   ],
   "source": [
    "proc javainfo;\n",
    "run;"
   ]
  },
  {
   "cell_type": "code",
   "execution_count": null,
   "metadata": {},
   "outputs": [],
   "source": []
  }
 ],
 "metadata": {
  "kernelspec": {
   "display_name": "SAS",
   "language": "sas",
   "name": "sas"
  },
  "language_info": {
   "codemirror_mode": "sas",
   "file_extension": ".sas",
   "mimetype": "text/x-sas",
   "name": "sas"
  }
 },
 "nbformat": 4,
 "nbformat_minor": 2
}
